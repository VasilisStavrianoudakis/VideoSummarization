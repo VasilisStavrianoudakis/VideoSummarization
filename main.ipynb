{
 "cells": [
  {
   "cell_type": "code",
   "execution_count": 1,
   "metadata": {},
   "outputs": [],
   "source": [
    "import os\n",
    "import glob\n",
    "from pathlib import Path\n",
    "from typing import List\n",
    "\n",
    "import av\n",
    "from yt_dlp import YoutubeDL\n",
    "import numpy as np\n",
    "import torch\n",
    "from moviepy import editor\n",
    "from moviepy.video.io.ffmpeg_tools import ffmpeg_extract_subclip\n",
    "from pytorchvideo.data.encoded_video import EncodedVideo\n",
    "from transformers import (\n",
    "    VideoMAEForVideoClassification,\n",
    "    VideoMAEImageProcessor,\n",
    "    VideoMAEModel,\n",
    ")\n",
    "\n",
    "np.random.seed(0)"
   ]
  },
  {
   "attachments": {},
   "cell_type": "markdown",
   "metadata": {},
   "source": [
    "## **Helper Functions**"
   ]
  },
  {
   "cell_type": "code",
   "execution_count": 2,
   "metadata": {},
   "outputs": [],
   "source": [
    "# Got them from: https://huggingface.co/docs/transformers/model_doc/videomae#transformers.VideoMAEForVideoClassification.forward.example\n",
    "\n",
    "\n",
    "def read_video_pyav(container, indices):\n",
    "    \"\"\"\n",
    "    Decode the video with PyAV decoder.\n",
    "    Args:\n",
    "        container (`av.container.input.InputContainer`): PyAV container.\n",
    "        indices (`List[int]`): List of frame indices to decode.\n",
    "    Returns:\n",
    "        result (np.ndarray): np array of decoded frames of shape (num_frames, height, width, 3).\n",
    "    \"\"\"\n",
    "    frames = []\n",
    "    container.seek(0)\n",
    "    start_index = indices[0]\n",
    "    end_index = indices[-1]\n",
    "    for i, frame in enumerate(container.decode(video=0)):\n",
    "        if i > end_index:\n",
    "            break\n",
    "        if i >= start_index and i in indices:\n",
    "            frames.append(frame)\n",
    "    return np.stack([x.to_ndarray(format=\"rgb24\") for x in frames])\n",
    "\n",
    "\n",
    "def sample_frame_indices(clip_len, frame_sample_rate, seg_len):\n",
    "    converted_len = int(clip_len * frame_sample_rate)\n",
    "    end_idx = np.random.randint(converted_len, seg_len)\n",
    "    start_idx = end_idx - converted_len\n",
    "    indices = np.linspace(start_idx, end_idx, num=clip_len)\n",
    "    indices = np.clip(indices, start_idx, end_idx - 1).astype(np.int64)\n",
    "    return indices"
   ]
  },
  {
   "cell_type": "code",
   "execution_count": 3,
   "metadata": {},
   "outputs": [],
   "source": [
    "def split_video_to_clips(video_path: str, output_folder: str, window: int) -> None:\n",
    "    # Load video and get its duration.\n",
    "    clip = editor.VideoFileClip(video_path)\n",
    "    duration = clip.duration\n",
    "    # del clip\n",
    "\n",
    "    start_ = 0\n",
    "    end_ = window\n",
    "\n",
    "    os.makedirs(output_folder, exist_ok=True)\n",
    "\n",
    "    while end_ < duration:\n",
    "        # new_clip = clip.subclip(start_, end_)\n",
    "        # new_clip.write_videofile(os.path.join(output_folder, f\"{start_}_{end_}.mp4\"), threads=1, preset='ultrafast')\n",
    "\n",
    "        ffmpeg_extract_subclip(\n",
    "            video_path,\n",
    "            start_,\n",
    "            end_,\n",
    "            targetname=os.path.join(output_folder, f\"{start_}_{end_}.mp4\"),\n",
    "        )\n",
    "        start_ += window\n",
    "        end_ += window  # TODO: There is a possibility to miss the last clip. Maybe we should set an upper bound."
   ]
  },
  {
   "attachments": {},
   "cell_type": "markdown",
   "metadata": {},
   "source": [
    "## **Download Videos**"
   ]
  },
  {
   "cell_type": "code",
   "execution_count": 30,
   "metadata": {},
   "outputs": [
    {
     "name": "stdout",
     "output_type": "stream",
     "text": [
      "[youtube] Extracting URL: https://www.youtube.com/watch?v=d0r0vzvqeoc&ab_channel=LubenTV\n",
      "[youtube] d0r0vzvqeoc: Downloading webpage\n",
      "[youtube] d0r0vzvqeoc: Downloading ios player API JSON\n",
      "[youtube] d0r0vzvqeoc: Downloading android player API JSON\n",
      "[youtube] d0r0vzvqeoc: Downloading m3u8 information\n",
      "[info] d0r0vzvqeoc: Downloading 1 format(s): 248+251\n",
      "[download] Destination: data\\Βασίλης Λεβέντης - Η πιο επική ομιλία ΤΟΥ ｜ Luben TV.f248.webm\n",
      "[download] 100% of   28.98MiB in 00:00:02 at 10.81MiB/s  \n",
      "[download] Destination: data\\Βασίλης Λεβέντης - Η πιο επική ομιλία ΤΟΥ ｜ Luben TV.f251.webm\n",
      "[download] 100% of    1.71MiB in 00:00:00 at 8.99MiB/s   \n",
      "[Merger] Merging formats into \"data\\Βασίλης Λεβέντης - Η πιο επική ομιλία ΤΟΥ ｜ Luben TV.webm\"\n",
      "Deleting original file data\\Βασίλης Λεβέντης - Η πιο επική ομιλία ΤΟΥ ｜ Luben TV.f251.webm (pass -k to keep)\n",
      "Deleting original file data\\Βασίλης Λεβέντης - Η πιο επική ομιλία ΤΟΥ ｜ Luben TV.f248.webm (pass -k to keep)\n",
      "[youtube:tab] Extracting URL: https://www.youtube.com/watch?v=SvV6aUki6LU&list=PLCGIzmTE4d0iCqSmha1X7F-_AqB3jjo26&index=7&ab_channel=FIFA\n",
      "[youtube:tab] Downloading just the video SvV6aUki6LU because of --no-playlist\n",
      "[youtube] Extracting URL: https://www.youtube.com/watch?v=SvV6aUki6LU\n",
      "[youtube] SvV6aUki6LU: Downloading webpage\n",
      "[youtube] SvV6aUki6LU: Downloading ios player API JSON\n",
      "[youtube] SvV6aUki6LU: Downloading android player API JSON\n",
      "[youtube] SvV6aUki6LU: Downloading m3u8 information\n",
      "[info] SvV6aUki6LU: Downloading 1 format(s): 248+251\n",
      "[download] Destination: data\\FULL MATCH： France vs. Croatia ｜ 2018 FIFA World Cup Final.f248.webm\n",
      "[download]   4.8% of    1.70GiB at   11.68MiB/s ETA 02:21   "
     ]
    },
    {
     "ename": "KeyboardInterrupt",
     "evalue": "",
     "output_type": "error",
     "traceback": [
      "\u001b[1;31m---------------------------------------------------------------------------\u001b[0m",
      "\u001b[1;31mKeyboardInterrupt\u001b[0m                         Traceback (most recent call last)",
      "Cell \u001b[1;32mIn[30], line 18\u001b[0m\n\u001b[0;32m     15\u001b[0m ydl_opts \u001b[39m=\u001b[39m {\u001b[39m\"\u001b[39m\u001b[39mnoplaylist\u001b[39m\u001b[39m\"\u001b[39m: \u001b[39mTrue\u001b[39;00m, \u001b[39m\"\u001b[39m\u001b[39mouttmpl\u001b[39m\u001b[39m\"\u001b[39m: os\u001b[39m.\u001b[39mpath\u001b[39m.\u001b[39mjoin(save_videos_to, \u001b[39m\"\u001b[39m\u001b[39m%(title)s\u001b[39;00m\u001b[39m\"\u001b[39m)}\n\u001b[0;32m     17\u001b[0m \u001b[39mwith\u001b[39;00m YoutubeDL(ydl_opts) \u001b[39mas\u001b[39;00m ydl:\n\u001b[1;32m---> 18\u001b[0m     ydl\u001b[39m.\u001b[39;49mdownload(links)\n",
      "File \u001b[1;32mc:\\Users\\v.staurianoudakis\\Anaconda3\\envs\\videosummarization\\lib\\site-packages\\yt_dlp\\YoutubeDL.py:3409\u001b[0m, in \u001b[0;36mYoutubeDL.download\u001b[1;34m(self, url_list)\u001b[0m\n\u001b[0;32m   3406\u001b[0m     \u001b[39mraise\u001b[39;00m SameFileError(outtmpl)\n\u001b[0;32m   3408\u001b[0m \u001b[39mfor\u001b[39;00m url \u001b[39min\u001b[39;00m url_list:\n\u001b[1;32m-> 3409\u001b[0m     \u001b[39mself\u001b[39;49m\u001b[39m.\u001b[39;49m__download_wrapper(\u001b[39mself\u001b[39;49m\u001b[39m.\u001b[39;49mextract_info)(\n\u001b[0;32m   3410\u001b[0m         url, force_generic_extractor\u001b[39m=\u001b[39;49m\u001b[39mself\u001b[39;49m\u001b[39m.\u001b[39;49mparams\u001b[39m.\u001b[39;49mget(\u001b[39m'\u001b[39;49m\u001b[39mforce_generic_extractor\u001b[39;49m\u001b[39m'\u001b[39;49m, \u001b[39mFalse\u001b[39;49;00m))\n\u001b[0;32m   3412\u001b[0m \u001b[39mreturn\u001b[39;00m \u001b[39mself\u001b[39m\u001b[39m.\u001b[39m_download_retcode\n",
      "File \u001b[1;32mc:\\Users\\v.staurianoudakis\\Anaconda3\\envs\\videosummarization\\lib\\site-packages\\yt_dlp\\YoutubeDL.py:3384\u001b[0m, in \u001b[0;36mYoutubeDL.__download_wrapper.<locals>.wrapper\u001b[1;34m(*args, **kwargs)\u001b[0m\n\u001b[0;32m   3381\u001b[0m \u001b[39m@functools\u001b[39m\u001b[39m.\u001b[39mwraps(func)\n\u001b[0;32m   3382\u001b[0m \u001b[39mdef\u001b[39;00m \u001b[39mwrapper\u001b[39m(\u001b[39m*\u001b[39margs, \u001b[39m*\u001b[39m\u001b[39m*\u001b[39mkwargs):\n\u001b[0;32m   3383\u001b[0m     \u001b[39mtry\u001b[39;00m:\n\u001b[1;32m-> 3384\u001b[0m         res \u001b[39m=\u001b[39m func(\u001b[39m*\u001b[39margs, \u001b[39m*\u001b[39m\u001b[39m*\u001b[39mkwargs)\n\u001b[0;32m   3385\u001b[0m     \u001b[39mexcept\u001b[39;00m UnavailableVideoError \u001b[39mas\u001b[39;00m e:\n\u001b[0;32m   3386\u001b[0m         \u001b[39mself\u001b[39m\u001b[39m.\u001b[39mreport_error(e)\n",
      "File \u001b[1;32mc:\\Users\\v.staurianoudakis\\Anaconda3\\envs\\videosummarization\\lib\\site-packages\\yt_dlp\\YoutubeDL.py:1544\u001b[0m, in \u001b[0;36mYoutubeDL.extract_info\u001b[1;34m(self, url, download, ie_key, extra_info, process, force_generic_extractor)\u001b[0m\n\u001b[0;32m   1542\u001b[0m             \u001b[39mraise\u001b[39;00m ExistingVideoReached()\n\u001b[0;32m   1543\u001b[0m         \u001b[39mbreak\u001b[39;00m\n\u001b[1;32m-> 1544\u001b[0m     \u001b[39mreturn\u001b[39;00m \u001b[39mself\u001b[39;49m\u001b[39m.\u001b[39;49m__extract_info(url, \u001b[39mself\u001b[39;49m\u001b[39m.\u001b[39;49mget_info_extractor(key), download, extra_info, process)\n\u001b[0;32m   1545\u001b[0m \u001b[39melse\u001b[39;00m:\n\u001b[0;32m   1546\u001b[0m     extractors_restricted \u001b[39m=\u001b[39m \u001b[39mself\u001b[39m\u001b[39m.\u001b[39mparams\u001b[39m.\u001b[39mget(\u001b[39m'\u001b[39m\u001b[39mallowed_extractors\u001b[39m\u001b[39m'\u001b[39m) \u001b[39mnot\u001b[39;00m \u001b[39min\u001b[39;00m (\u001b[39mNone\u001b[39;00m, [\u001b[39m'\u001b[39m\u001b[39mdefault\u001b[39m\u001b[39m'\u001b[39m])\n",
      "File \u001b[1;32mc:\\Users\\v.staurianoudakis\\Anaconda3\\envs\\videosummarization\\lib\\site-packages\\yt_dlp\\YoutubeDL.py:1555\u001b[0m, in \u001b[0;36mYoutubeDL._handle_extraction_exceptions.<locals>.wrapper\u001b[1;34m(self, *args, **kwargs)\u001b[0m\n\u001b[0;32m   1553\u001b[0m \u001b[39mwhile\u001b[39;00m \u001b[39mTrue\u001b[39;00m:\n\u001b[0;32m   1554\u001b[0m     \u001b[39mtry\u001b[39;00m:\n\u001b[1;32m-> 1555\u001b[0m         \u001b[39mreturn\u001b[39;00m func(\u001b[39mself\u001b[39m, \u001b[39m*\u001b[39margs, \u001b[39m*\u001b[39m\u001b[39m*\u001b[39mkwargs)\n\u001b[0;32m   1556\u001b[0m     \u001b[39mexcept\u001b[39;00m (DownloadCancelled, LazyList\u001b[39m.\u001b[39mIndexError, PagedList\u001b[39m.\u001b[39mIndexError):\n\u001b[0;32m   1557\u001b[0m         \u001b[39mraise\u001b[39;00m\n",
      "File \u001b[1;32mc:\\Users\\v.staurianoudakis\\Anaconda3\\envs\\videosummarization\\lib\\site-packages\\yt_dlp\\YoutubeDL.py:1652\u001b[0m, in \u001b[0;36mYoutubeDL.__extract_info\u001b[1;34m(self, url, ie, download, extra_info, process)\u001b[0m\n\u001b[0;32m   1650\u001b[0m \u001b[39mif\u001b[39;00m process:\n\u001b[0;32m   1651\u001b[0m     \u001b[39mself\u001b[39m\u001b[39m.\u001b[39m_wait_for_video(ie_result)\n\u001b[1;32m-> 1652\u001b[0m     \u001b[39mreturn\u001b[39;00m \u001b[39mself\u001b[39;49m\u001b[39m.\u001b[39;49mprocess_ie_result(ie_result, download, extra_info)\n\u001b[0;32m   1653\u001b[0m \u001b[39melse\u001b[39;00m:\n\u001b[0;32m   1654\u001b[0m     \u001b[39mreturn\u001b[39;00m ie_result\n",
      "File \u001b[1;32mc:\\Users\\v.staurianoudakis\\Anaconda3\\envs\\videosummarization\\lib\\site-packages\\yt_dlp\\YoutubeDL.py:1731\u001b[0m, in \u001b[0;36mYoutubeDL.process_ie_result\u001b[1;34m(self, ie_result, download, extra_info)\u001b[0m\n\u001b[0;32m   1727\u001b[0m     \u001b[39mreturn\u001b[39;00m ie_result\n\u001b[0;32m   1728\u001b[0m \u001b[39melif\u001b[39;00m result_type \u001b[39m==\u001b[39m \u001b[39m'\u001b[39m\u001b[39murl\u001b[39m\u001b[39m'\u001b[39m:\n\u001b[0;32m   1729\u001b[0m     \u001b[39m# We have to add extra_info to the results because it may be\u001b[39;00m\n\u001b[0;32m   1730\u001b[0m     \u001b[39m# contained in a playlist\u001b[39;00m\n\u001b[1;32m-> 1731\u001b[0m     \u001b[39mreturn\u001b[39;00m \u001b[39mself\u001b[39;49m\u001b[39m.\u001b[39;49mextract_info(\n\u001b[0;32m   1732\u001b[0m         ie_result[\u001b[39m'\u001b[39;49m\u001b[39murl\u001b[39;49m\u001b[39m'\u001b[39;49m], download,\n\u001b[0;32m   1733\u001b[0m         ie_key\u001b[39m=\u001b[39;49mie_result\u001b[39m.\u001b[39;49mget(\u001b[39m'\u001b[39;49m\u001b[39mie_key\u001b[39;49m\u001b[39m'\u001b[39;49m),\n\u001b[0;32m   1734\u001b[0m         extra_info\u001b[39m=\u001b[39;49mextra_info)\n\u001b[0;32m   1735\u001b[0m \u001b[39melif\u001b[39;00m result_type \u001b[39m==\u001b[39m \u001b[39m'\u001b[39m\u001b[39murl_transparent\u001b[39m\u001b[39m'\u001b[39m:\n\u001b[0;32m   1736\u001b[0m     \u001b[39m# Use the information from the embedding page\u001b[39;00m\n\u001b[0;32m   1737\u001b[0m     info \u001b[39m=\u001b[39m \u001b[39mself\u001b[39m\u001b[39m.\u001b[39mextract_info(\n\u001b[0;32m   1738\u001b[0m         ie_result[\u001b[39m'\u001b[39m\u001b[39murl\u001b[39m\u001b[39m'\u001b[39m], ie_key\u001b[39m=\u001b[39mie_result\u001b[39m.\u001b[39mget(\u001b[39m'\u001b[39m\u001b[39mie_key\u001b[39m\u001b[39m'\u001b[39m),\n\u001b[0;32m   1739\u001b[0m         extra_info\u001b[39m=\u001b[39mextra_info, download\u001b[39m=\u001b[39m\u001b[39mFalse\u001b[39;00m, process\u001b[39m=\u001b[39m\u001b[39mFalse\u001b[39;00m)\n",
      "File \u001b[1;32mc:\\Users\\v.staurianoudakis\\Anaconda3\\envs\\videosummarization\\lib\\site-packages\\yt_dlp\\YoutubeDL.py:1544\u001b[0m, in \u001b[0;36mYoutubeDL.extract_info\u001b[1;34m(self, url, download, ie_key, extra_info, process, force_generic_extractor)\u001b[0m\n\u001b[0;32m   1542\u001b[0m             \u001b[39mraise\u001b[39;00m ExistingVideoReached()\n\u001b[0;32m   1543\u001b[0m         \u001b[39mbreak\u001b[39;00m\n\u001b[1;32m-> 1544\u001b[0m     \u001b[39mreturn\u001b[39;00m \u001b[39mself\u001b[39;49m\u001b[39m.\u001b[39;49m__extract_info(url, \u001b[39mself\u001b[39;49m\u001b[39m.\u001b[39;49mget_info_extractor(key), download, extra_info, process)\n\u001b[0;32m   1545\u001b[0m \u001b[39melse\u001b[39;00m:\n\u001b[0;32m   1546\u001b[0m     extractors_restricted \u001b[39m=\u001b[39m \u001b[39mself\u001b[39m\u001b[39m.\u001b[39mparams\u001b[39m.\u001b[39mget(\u001b[39m'\u001b[39m\u001b[39mallowed_extractors\u001b[39m\u001b[39m'\u001b[39m) \u001b[39mnot\u001b[39;00m \u001b[39min\u001b[39;00m (\u001b[39mNone\u001b[39;00m, [\u001b[39m'\u001b[39m\u001b[39mdefault\u001b[39m\u001b[39m'\u001b[39m])\n",
      "File \u001b[1;32mc:\\Users\\v.staurianoudakis\\Anaconda3\\envs\\videosummarization\\lib\\site-packages\\yt_dlp\\YoutubeDL.py:1555\u001b[0m, in \u001b[0;36mYoutubeDL._handle_extraction_exceptions.<locals>.wrapper\u001b[1;34m(self, *args, **kwargs)\u001b[0m\n\u001b[0;32m   1553\u001b[0m \u001b[39mwhile\u001b[39;00m \u001b[39mTrue\u001b[39;00m:\n\u001b[0;32m   1554\u001b[0m     \u001b[39mtry\u001b[39;00m:\n\u001b[1;32m-> 1555\u001b[0m         \u001b[39mreturn\u001b[39;00m func(\u001b[39mself\u001b[39m, \u001b[39m*\u001b[39margs, \u001b[39m*\u001b[39m\u001b[39m*\u001b[39mkwargs)\n\u001b[0;32m   1556\u001b[0m     \u001b[39mexcept\u001b[39;00m (DownloadCancelled, LazyList\u001b[39m.\u001b[39mIndexError, PagedList\u001b[39m.\u001b[39mIndexError):\n\u001b[0;32m   1557\u001b[0m         \u001b[39mraise\u001b[39;00m\n",
      "File \u001b[1;32mc:\\Users\\v.staurianoudakis\\Anaconda3\\envs\\videosummarization\\lib\\site-packages\\yt_dlp\\YoutubeDL.py:1652\u001b[0m, in \u001b[0;36mYoutubeDL.__extract_info\u001b[1;34m(self, url, ie, download, extra_info, process)\u001b[0m\n\u001b[0;32m   1650\u001b[0m \u001b[39mif\u001b[39;00m process:\n\u001b[0;32m   1651\u001b[0m     \u001b[39mself\u001b[39m\u001b[39m.\u001b[39m_wait_for_video(ie_result)\n\u001b[1;32m-> 1652\u001b[0m     \u001b[39mreturn\u001b[39;00m \u001b[39mself\u001b[39;49m\u001b[39m.\u001b[39;49mprocess_ie_result(ie_result, download, extra_info)\n\u001b[0;32m   1653\u001b[0m \u001b[39melse\u001b[39;00m:\n\u001b[0;32m   1654\u001b[0m     \u001b[39mreturn\u001b[39;00m ie_result\n",
      "File \u001b[1;32mc:\\Users\\v.staurianoudakis\\Anaconda3\\envs\\videosummarization\\lib\\site-packages\\yt_dlp\\YoutubeDL.py:1711\u001b[0m, in \u001b[0;36mYoutubeDL.process_ie_result\u001b[1;34m(self, ie_result, download, extra_info)\u001b[0m\n\u001b[0;32m   1709\u001b[0m \u001b[39mif\u001b[39;00m result_type \u001b[39m==\u001b[39m \u001b[39m'\u001b[39m\u001b[39mvideo\u001b[39m\u001b[39m'\u001b[39m:\n\u001b[0;32m   1710\u001b[0m     \u001b[39mself\u001b[39m\u001b[39m.\u001b[39madd_extra_info(ie_result, extra_info)\n\u001b[1;32m-> 1711\u001b[0m     ie_result \u001b[39m=\u001b[39m \u001b[39mself\u001b[39;49m\u001b[39m.\u001b[39;49mprocess_video_result(ie_result, download\u001b[39m=\u001b[39;49mdownload)\n\u001b[0;32m   1712\u001b[0m     \u001b[39mself\u001b[39m\u001b[39m.\u001b[39m_raise_pending_errors(ie_result)\n\u001b[0;32m   1713\u001b[0m     additional_urls \u001b[39m=\u001b[39m (ie_result \u001b[39mor\u001b[39;00m {})\u001b[39m.\u001b[39mget(\u001b[39m'\u001b[39m\u001b[39madditional_urls\u001b[39m\u001b[39m'\u001b[39m)\n",
      "File \u001b[1;32mc:\\Users\\v.staurianoudakis\\Anaconda3\\envs\\videosummarization\\lib\\site-packages\\yt_dlp\\YoutubeDL.py:2821\u001b[0m, in \u001b[0;36mYoutubeDL.process_video_result\u001b[1;34m(self, info_dict, download)\u001b[0m\n\u001b[0;32m   2819\u001b[0m downloaded_formats\u001b[39m.\u001b[39mappend(new_info)\n\u001b[0;32m   2820\u001b[0m \u001b[39mtry\u001b[39;00m:\n\u001b[1;32m-> 2821\u001b[0m     \u001b[39mself\u001b[39;49m\u001b[39m.\u001b[39;49mprocess_info(new_info)\n\u001b[0;32m   2822\u001b[0m \u001b[39mexcept\u001b[39;00m MaxDownloadsReached:\n\u001b[0;32m   2823\u001b[0m     max_downloads_reached \u001b[39m=\u001b[39m \u001b[39mTrue\u001b[39;00m\n",
      "File \u001b[1;32mc:\\Users\\v.staurianoudakis\\Anaconda3\\envs\\videosummarization\\lib\\site-packages\\yt_dlp\\YoutubeDL.py:3269\u001b[0m, in \u001b[0;36mYoutubeDL.process_info\u001b[1;34m(self, info_dict)\u001b[0m\n\u001b[0;32m   3267\u001b[0m     f[\u001b[39m'\u001b[39m\u001b[39mfilepath\u001b[39m\u001b[39m'\u001b[39m] \u001b[39m=\u001b[39m fname\n\u001b[0;32m   3268\u001b[0m     downloaded\u001b[39m.\u001b[39mappend(fname)\n\u001b[1;32m-> 3269\u001b[0m partial_success, real_download \u001b[39m=\u001b[39m \u001b[39mself\u001b[39;49m\u001b[39m.\u001b[39;49mdl(fname, new_info)\n\u001b[0;32m   3270\u001b[0m info_dict[\u001b[39m'\u001b[39m\u001b[39m__real_download\u001b[39m\u001b[39m'\u001b[39m] \u001b[39m=\u001b[39m info_dict[\u001b[39m'\u001b[39m\u001b[39m__real_download\u001b[39m\u001b[39m'\u001b[39m] \u001b[39mor\u001b[39;00m real_download\n\u001b[0;32m   3271\u001b[0m success \u001b[39m=\u001b[39m success \u001b[39mand\u001b[39;00m partial_success\n",
      "File \u001b[1;32mc:\\Users\\v.staurianoudakis\\Anaconda3\\envs\\videosummarization\\lib\\site-packages\\yt_dlp\\YoutubeDL.py:3008\u001b[0m, in \u001b[0;36mYoutubeDL.dl\u001b[1;34m(self, name, info, subtitle, test)\u001b[0m\n\u001b[0;32m   3006\u001b[0m \u001b[39mif\u001b[39;00m new_info\u001b[39m.\u001b[39mget(\u001b[39m'\u001b[39m\u001b[39mhttp_headers\u001b[39m\u001b[39m'\u001b[39m) \u001b[39mis\u001b[39;00m \u001b[39mNone\u001b[39;00m:\n\u001b[0;32m   3007\u001b[0m     new_info[\u001b[39m'\u001b[39m\u001b[39mhttp_headers\u001b[39m\u001b[39m'\u001b[39m] \u001b[39m=\u001b[39m \u001b[39mself\u001b[39m\u001b[39m.\u001b[39m_calc_headers(new_info)\n\u001b[1;32m-> 3008\u001b[0m \u001b[39mreturn\u001b[39;00m fd\u001b[39m.\u001b[39;49mdownload(name, new_info, subtitle)\n",
      "File \u001b[1;32mc:\\Users\\v.staurianoudakis\\Anaconda3\\envs\\videosummarization\\lib\\site-packages\\yt_dlp\\downloader\\common.py:455\u001b[0m, in \u001b[0;36mFileDownloader.download\u001b[1;34m(self, filename, info_dict, subtitle)\u001b[0m\n\u001b[0;32m    452\u001b[0m     \u001b[39mself\u001b[39m\u001b[39m.\u001b[39mto_screen(\u001b[39mf\u001b[39m\u001b[39m'\u001b[39m\u001b[39m[download] Sleeping \u001b[39m\u001b[39m{\u001b[39;00msleep_interval\u001b[39m:\u001b[39;00m\u001b[39m.2f\u001b[39m\u001b[39m}\u001b[39;00m\u001b[39m seconds ...\u001b[39m\u001b[39m'\u001b[39m)\n\u001b[0;32m    453\u001b[0m     time\u001b[39m.\u001b[39msleep(sleep_interval)\n\u001b[1;32m--> 455\u001b[0m ret \u001b[39m=\u001b[39m \u001b[39mself\u001b[39;49m\u001b[39m.\u001b[39;49mreal_download(filename, info_dict)\n\u001b[0;32m    456\u001b[0m \u001b[39mself\u001b[39m\u001b[39m.\u001b[39m_finish_multiline_status()\n\u001b[0;32m    457\u001b[0m \u001b[39mreturn\u001b[39;00m ret, \u001b[39mTrue\u001b[39;00m\n",
      "File \u001b[1;32mc:\\Users\\v.staurianoudakis\\Anaconda3\\envs\\videosummarization\\lib\\site-packages\\yt_dlp\\downloader\\http.py:378\u001b[0m, in \u001b[0;36mHttpFD.real_download\u001b[1;34m(self, filename, info_dict)\u001b[0m\n\u001b[0;32m    376\u001b[0m \u001b[39mtry\u001b[39;00m:\n\u001b[0;32m    377\u001b[0m     establish_connection()\n\u001b[1;32m--> 378\u001b[0m     \u001b[39mreturn\u001b[39;00m download()\n\u001b[0;32m    379\u001b[0m \u001b[39mexcept\u001b[39;00m RetryDownload \u001b[39mas\u001b[39;00m err:\n\u001b[0;32m    380\u001b[0m     retry\u001b[39m.\u001b[39merror \u001b[39m=\u001b[39m err\u001b[39m.\u001b[39msource_error\n",
      "File \u001b[1;32mc:\\Users\\v.staurianoudakis\\Anaconda3\\envs\\videosummarization\\lib\\site-packages\\yt_dlp\\downloader\\http.py:260\u001b[0m, in \u001b[0;36mHttpFD.real_download.<locals>.download\u001b[1;34m()\u001b[0m\n\u001b[0;32m    257\u001b[0m \u001b[39mwhile\u001b[39;00m \u001b[39mTrue\u001b[39;00m:\n\u001b[0;32m    258\u001b[0m     \u001b[39mtry\u001b[39;00m:\n\u001b[0;32m    259\u001b[0m         \u001b[39m# Download and write\u001b[39;00m\n\u001b[1;32m--> 260\u001b[0m         data_block \u001b[39m=\u001b[39m ctx\u001b[39m.\u001b[39;49mdata\u001b[39m.\u001b[39;49mread(block_size \u001b[39mif\u001b[39;49;00m \u001b[39mnot\u001b[39;49;00m is_test \u001b[39melse\u001b[39;49;00m \u001b[39mmin\u001b[39;49m(block_size, data_len \u001b[39m-\u001b[39;49m byte_counter))\n\u001b[0;32m    261\u001b[0m     \u001b[39mexcept\u001b[39;00m RESPONSE_READ_EXCEPTIONS \u001b[39mas\u001b[39;00m err:\n\u001b[0;32m    262\u001b[0m         retry(err)\n",
      "File \u001b[1;32mc:\\Users\\v.staurianoudakis\\Anaconda3\\envs\\videosummarization\\lib\\http\\client.py:463\u001b[0m, in \u001b[0;36mHTTPResponse.read\u001b[1;34m(self, amt)\u001b[0m\n\u001b[0;32m    460\u001b[0m \u001b[39mif\u001b[39;00m amt \u001b[39mis\u001b[39;00m \u001b[39mnot\u001b[39;00m \u001b[39mNone\u001b[39;00m:\n\u001b[0;32m    461\u001b[0m     \u001b[39m# Amount is given, implement using readinto\u001b[39;00m\n\u001b[0;32m    462\u001b[0m     b \u001b[39m=\u001b[39m \u001b[39mbytearray\u001b[39m(amt)\n\u001b[1;32m--> 463\u001b[0m     n \u001b[39m=\u001b[39m \u001b[39mself\u001b[39;49m\u001b[39m.\u001b[39;49mreadinto(b)\n\u001b[0;32m    464\u001b[0m     \u001b[39mreturn\u001b[39;00m \u001b[39mmemoryview\u001b[39m(b)[:n]\u001b[39m.\u001b[39mtobytes()\n\u001b[0;32m    465\u001b[0m \u001b[39melse\u001b[39;00m:\n\u001b[0;32m    466\u001b[0m     \u001b[39m# Amount is not given (unbounded read) so we must check self.length\u001b[39;00m\n\u001b[0;32m    467\u001b[0m     \u001b[39m# and self.chunked\u001b[39;00m\n",
      "File \u001b[1;32mc:\\Users\\v.staurianoudakis\\Anaconda3\\envs\\videosummarization\\lib\\http\\client.py:507\u001b[0m, in \u001b[0;36mHTTPResponse.readinto\u001b[1;34m(self, b)\u001b[0m\n\u001b[0;32m    502\u001b[0m         b \u001b[39m=\u001b[39m \u001b[39mmemoryview\u001b[39m(b)[\u001b[39m0\u001b[39m:\u001b[39mself\u001b[39m\u001b[39m.\u001b[39mlength]\n\u001b[0;32m    504\u001b[0m \u001b[39m# we do not use _safe_read() here because this may be a .will_close\u001b[39;00m\n\u001b[0;32m    505\u001b[0m \u001b[39m# connection, and the user is reading more bytes than will be provided\u001b[39;00m\n\u001b[0;32m    506\u001b[0m \u001b[39m# (for example, reading in 1k chunks)\u001b[39;00m\n\u001b[1;32m--> 507\u001b[0m n \u001b[39m=\u001b[39m \u001b[39mself\u001b[39;49m\u001b[39m.\u001b[39;49mfp\u001b[39m.\u001b[39;49mreadinto(b)\n\u001b[0;32m    508\u001b[0m \u001b[39mif\u001b[39;00m \u001b[39mnot\u001b[39;00m n \u001b[39mand\u001b[39;00m b:\n\u001b[0;32m    509\u001b[0m     \u001b[39m# Ideally, we would raise IncompleteRead if the content-length\u001b[39;00m\n\u001b[0;32m    510\u001b[0m     \u001b[39m# wasn't satisfied, but it might break compatibility.\u001b[39;00m\n\u001b[0;32m    511\u001b[0m     \u001b[39mself\u001b[39m\u001b[39m.\u001b[39m_close_conn()\n",
      "File \u001b[1;32mc:\\Users\\v.staurianoudakis\\Anaconda3\\envs\\videosummarization\\lib\\socket.py:704\u001b[0m, in \u001b[0;36mSocketIO.readinto\u001b[1;34m(self, b)\u001b[0m\n\u001b[0;32m    702\u001b[0m \u001b[39mwhile\u001b[39;00m \u001b[39mTrue\u001b[39;00m:\n\u001b[0;32m    703\u001b[0m     \u001b[39mtry\u001b[39;00m:\n\u001b[1;32m--> 704\u001b[0m         \u001b[39mreturn\u001b[39;00m \u001b[39mself\u001b[39;49m\u001b[39m.\u001b[39;49m_sock\u001b[39m.\u001b[39;49mrecv_into(b)\n\u001b[0;32m    705\u001b[0m     \u001b[39mexcept\u001b[39;00m timeout:\n\u001b[0;32m    706\u001b[0m         \u001b[39mself\u001b[39m\u001b[39m.\u001b[39m_timeout_occurred \u001b[39m=\u001b[39m \u001b[39mTrue\u001b[39;00m\n",
      "File \u001b[1;32mc:\\Users\\v.staurianoudakis\\Anaconda3\\envs\\videosummarization\\lib\\ssl.py:1242\u001b[0m, in \u001b[0;36mSSLSocket.recv_into\u001b[1;34m(self, buffer, nbytes, flags)\u001b[0m\n\u001b[0;32m   1238\u001b[0m     \u001b[39mif\u001b[39;00m flags \u001b[39m!=\u001b[39m \u001b[39m0\u001b[39m:\n\u001b[0;32m   1239\u001b[0m         \u001b[39mraise\u001b[39;00m \u001b[39mValueError\u001b[39;00m(\n\u001b[0;32m   1240\u001b[0m           \u001b[39m\"\u001b[39m\u001b[39mnon-zero flags not allowed in calls to recv_into() on \u001b[39m\u001b[39m%s\u001b[39;00m\u001b[39m\"\u001b[39m \u001b[39m%\u001b[39m\n\u001b[0;32m   1241\u001b[0m           \u001b[39mself\u001b[39m\u001b[39m.\u001b[39m\u001b[39m__class__\u001b[39m)\n\u001b[1;32m-> 1242\u001b[0m     \u001b[39mreturn\u001b[39;00m \u001b[39mself\u001b[39;49m\u001b[39m.\u001b[39;49mread(nbytes, buffer)\n\u001b[0;32m   1243\u001b[0m \u001b[39melse\u001b[39;00m:\n\u001b[0;32m   1244\u001b[0m     \u001b[39mreturn\u001b[39;00m \u001b[39msuper\u001b[39m()\u001b[39m.\u001b[39mrecv_into(buffer, nbytes, flags)\n",
      "File \u001b[1;32mc:\\Users\\v.staurianoudakis\\Anaconda3\\envs\\videosummarization\\lib\\ssl.py:1100\u001b[0m, in \u001b[0;36mSSLSocket.read\u001b[1;34m(self, len, buffer)\u001b[0m\n\u001b[0;32m   1098\u001b[0m \u001b[39mtry\u001b[39;00m:\n\u001b[0;32m   1099\u001b[0m     \u001b[39mif\u001b[39;00m buffer \u001b[39mis\u001b[39;00m \u001b[39mnot\u001b[39;00m \u001b[39mNone\u001b[39;00m:\n\u001b[1;32m-> 1100\u001b[0m         \u001b[39mreturn\u001b[39;00m \u001b[39mself\u001b[39;49m\u001b[39m.\u001b[39;49m_sslobj\u001b[39m.\u001b[39;49mread(\u001b[39mlen\u001b[39;49m, buffer)\n\u001b[0;32m   1101\u001b[0m     \u001b[39melse\u001b[39;00m:\n\u001b[0;32m   1102\u001b[0m         \u001b[39mreturn\u001b[39;00m \u001b[39mself\u001b[39m\u001b[39m.\u001b[39m_sslobj\u001b[39m.\u001b[39mread(\u001b[39mlen\u001b[39m)\n",
      "\u001b[1;31mKeyboardInterrupt\u001b[0m: "
     ]
    }
   ],
   "source": [
    "save_videos_to = \"data\"\n",
    "\n",
    "links = [\n",
    "    \"https://www.youtube.com/watch?v=d0r0vzvqeoc&ab_channel=LubenTV\",\n",
    "    \"https://www.youtube.com/watch?v=SvV6aUki6LU&list=PLCGIzmTE4d0iCqSmha1X7F-_AqB3jjo26&index=7&ab_channel=FIFA\",\n",
    "]\n",
    "\n",
    "ydl_opts = {\"noplaylist\": True, \"outtmpl\": os.path.join(save_videos_to, \"%(title)s\")}\n",
    "\n",
    "with YoutubeDL(ydl_opts) as ydl:\n",
    "    ydl.download(links)"
   ]
  },
  {
   "cell_type": "code",
   "execution_count": null,
   "metadata": {},
   "outputs": [],
   "source": []
  },
  {
   "attachments": {},
   "cell_type": "markdown",
   "metadata": {},
   "source": [
    "## **Split a video into clips**"
   ]
  },
  {
   "cell_type": "code",
   "execution_count": 35,
   "metadata": {},
   "outputs": [],
   "source": [
    "video_path = \"test_video.mp4\"\n",
    "clips_output_path = os.path.basename(video_path)\n",
    "clips_output_path = Path(clips_output_path).stem\n",
    "\n",
    "split_video_to_clips(video_path=video_path, output_folder=clips_output_path, window=10)"
   ]
  },
  {
   "attachments": {},
   "cell_type": "markdown",
   "metadata": {},
   "source": [
    "## **Extract audio from a clip**"
   ]
  },
  {
   "cell_type": "code",
   "execution_count": 5,
   "metadata": {},
   "outputs": [
    {
     "name": "stdout",
     "output_type": "stream",
     "text": [
      "MoviePy - Writing audio in audio.mp3\n"
     ]
    },
    {
     "name": "stderr",
     "output_type": "stream",
     "text": [
      "                                                                     "
     ]
    },
    {
     "name": "stdout",
     "output_type": "stream",
     "text": [
      "MoviePy - Done.\n"
     ]
    },
    {
     "name": "stderr",
     "output_type": "stream",
     "text": [
      "\r"
     ]
    }
   ],
   "source": [
    "#Load the Video\n",
    "video = editor.VideoFileClip(\"test_video.mp4\")\n",
    "\n",
    "#Extract the Audio\n",
    "audio = video.audio\n",
    "\n",
    "#Export the Audio\n",
    "audio.write_audiofile(\"audio.mp3\")"
   ]
  },
  {
   "attachments": {},
   "cell_type": "markdown",
   "metadata": {},
   "source": [
    "## **Extract a feature vector from a video**"
   ]
  },
  {
   "cell_type": "code",
   "execution_count": 36,
   "metadata": {},
   "outputs": [
    {
     "data": {
      "text/plain": [
       "<av.InputContainer 'test_video.mp4'>"
      ]
     },
     "execution_count": 36,
     "metadata": {},
     "output_type": "execute_result"
    }
   ],
   "source": [
    "av.open(\"test_video.mp4\")"
   ]
  },
  {
   "cell_type": "code",
   "execution_count": 78,
   "metadata": {},
   "outputs": [],
   "source": [
    "def open_clips(clips_output_path: str) -> List[List]:\n",
    "    file_paths = glob.glob(os.path.join(clips_output_path, \"*\"))\n",
    "    clips = [av.open(file_path) for file_path in file_paths]\n",
    "\n",
    "    # sample 16 frames\n",
    "    indices = [sample_frame_indices(clip_len=16, frame_sample_rate=1, seg_len=clip.streams.video[0].frames) for clip in clips]\n",
    "    videos = [list(read_video_pyav(clip, indices_)) for clip, indices_ in zip(clips, indices)]\n",
    "    return videos"
   ]
  },
  {
   "cell_type": "code",
   "execution_count": 79,
   "metadata": {},
   "outputs": [
    {
     "name": "stderr",
     "output_type": "stream",
     "text": [
      "Some weights of the model checkpoint at MCG-NJU/videomae-base-finetuned-kinetics were not used when initializing VideoMAEModel: ['fc_norm.weight', 'classifier.bias', 'fc_norm.bias', 'classifier.weight']\n",
      "- This IS expected if you are initializing VideoMAEModel from the checkpoint of a model trained on another task or with another architecture (e.g. initializing a BertForSequenceClassification model from a BertForPreTraining model).\n",
      "- This IS NOT expected if you are initializing VideoMAEModel from the checkpoint of a model that you expect to be exactly identical (initializing a BertForSequenceClassification model from a BertForSequenceClassification model).\n"
     ]
    }
   ],
   "source": [
    "processor = VideoMAEImageProcessor.from_pretrained(\"MCG-NJU/videomae-base-finetuned-kinetics\")\n",
    "# model = VideoMAEForVideoClassification.from_pretrained(\"MCG-NJU/videomae-base-finetuned-kinetics\")\n",
    "model = VideoMAEModel.from_pretrained(\"MCG-NJU/videomae-base-finetuned-kinetics\")"
   ]
  },
  {
   "cell_type": "code",
   "execution_count": 80,
   "metadata": {},
   "outputs": [],
   "source": [
    "videos = open_clips(clips_output_path=clips_output_path)\n",
    "\n",
    "# prepare videos for the model\n",
    "inputs = processor(videos, return_tensors=\"pt\")"
   ]
  },
  {
   "cell_type": "code",
   "execution_count": 81,
   "metadata": {},
   "outputs": [],
   "source": [
    "with torch.no_grad():\n",
    "    outputs = model(**inputs)\n",
    "    # logits = outputs.logits"
   ]
  },
  {
   "cell_type": "code",
   "execution_count": 82,
   "metadata": {},
   "outputs": [
    {
     "data": {
      "text/plain": [
       "torch.Size([12, 1568, 768])"
      ]
     },
     "execution_count": 82,
     "metadata": {},
     "output_type": "execute_result"
    }
   ],
   "source": [
    "outputs.last_hidden_state.shape"
   ]
  },
  {
   "cell_type": "code",
   "execution_count": 83,
   "metadata": {},
   "outputs": [],
   "source": [
    "if len(videos) > 1:\n",
    "    video_features = outputs.last_hidden_state[:, 0, :]\n",
    "else:\n",
    "    video_features = outputs.last_hidden_state.squeeze(dim=0)[0, :]"
   ]
  },
  {
   "cell_type": "code",
   "execution_count": 84,
   "metadata": {},
   "outputs": [
    {
     "data": {
      "text/plain": [
       "torch.Size([12, 768])"
      ]
     },
     "execution_count": 84,
     "metadata": {},
     "output_type": "execute_result"
    }
   ],
   "source": [
    "video_features.shape"
   ]
  },
  {
   "cell_type": "code",
   "execution_count": null,
   "metadata": {},
   "outputs": [],
   "source": []
  },
  {
   "cell_type": "code",
   "execution_count": null,
   "metadata": {},
   "outputs": [],
   "source": []
  }
 ],
 "metadata": {
  "kernelspec": {
   "display_name": "videosummarization",
   "language": "python",
   "name": "python3"
  },
  "language_info": {
   "codemirror_mode": {
    "name": "ipython",
    "version": 3
   },
   "file_extension": ".py",
   "mimetype": "text/x-python",
   "name": "python",
   "nbconvert_exporter": "python",
   "pygments_lexer": "ipython3",
   "version": "3.9.16"
  },
  "orig_nbformat": 4
 },
 "nbformat": 4,
 "nbformat_minor": 2
}
